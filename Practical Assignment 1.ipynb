{
  "cells": [
    {
      "cell_type": "markdown",
      "metadata": {
        "id": "view-in-github",
        "colab_type": "text"
      },
      "source": [
        "<a href=\"https://colab.research.google.com/github/chipojaya1/Machine-Learning-I/blob/main/Practical%20Assignment%201.ipynb\" target=\"_parent\"><img src=\"https://colab.research.google.com/assets/colab-badge.svg\" alt=\"Open In Colab\"/></a>"
      ]
    },
    {
      "cell_type": "markdown",
      "source": [
        "# **DNSC6314 Assignment 1 by Chipo Jaya: G44454879**"
      ],
      "metadata": {
        "id": "j__1ZiLtX1Ju"
      },
      "id": "j__1ZiLtX1Ju"
    },
    {
      "cell_type": "markdown",
      "id": "55a91441",
      "metadata": {
        "id": "55a91441"
      },
      "source": [
        "## This assignment uses Capital Bikeshare Data\n",
        "https://ride.capitalbikeshare.com/system-data\n",
        "\n",
        "Data is from three months: 2024/02, 2024/03 and 2024/04."
      ]
    },
    {
      "cell_type": "markdown",
      "source": [
        "### Getting started"
      ],
      "metadata": {
        "id": "L8IW9x_5YGkj"
      },
      "id": "L8IW9x_5YGkj"
    },
    {
      "cell_type": "code",
      "source": [
        "# mount google drive\n",
        "from google.colab import drive\n",
        "drive.mount('/content/drive')"
      ],
      "metadata": {
        "id": "z6PSK4jES9P1",
        "colab": {
          "base_uri": "https://localhost:8080/"
        },
        "outputId": "c6a46653-4e07-4b3a-dbdf-da0f9244f0a4"
      },
      "id": "z6PSK4jES9P1",
      "execution_count": 1,
      "outputs": [
        {
          "output_type": "stream",
          "name": "stdout",
          "text": [
            "Drive already mounted at /content/drive; to attempt to forcibly remount, call drive.mount(\"/content/drive\", force_remount=True).\n"
          ]
        }
      ]
    },
    {
      "cell_type": "code",
      "source": [
        "# cloning github repository to access data\n",
        "!git clone https://github.com/chipojaya1/Machine-Learning-I.git"
      ],
      "metadata": {
        "colab": {
          "base_uri": "https://localhost:8080/"
        },
        "id": "0SkZxdkCFkOL",
        "outputId": "941ff9c9-044f-4708-a213-cad43167cf3d"
      },
      "id": "0SkZxdkCFkOL",
      "execution_count": 6,
      "outputs": [
        {
          "output_type": "stream",
          "name": "stdout",
          "text": [
            "Cloning into 'Machine-Learning-I'...\n",
            "remote: Enumerating objects: 32, done.\u001b[K\n",
            "remote: Counting objects: 100% (12/12), done.\u001b[K\n",
            "remote: Compressing objects: 100% (12/12), done.\u001b[K\n",
            "remote: Total 32 (delta 6), reused 0 (delta 0), pack-reused 20 (from 2)\u001b[K\n",
            "Receiving objects: 100% (32/32), 47.94 MiB | 18.35 MiB/s, done.\n",
            "Resolving deltas: 100% (11/11), done.\n",
            "Updating files: 100% (5/5), done.\n"
          ]
        }
      ]
    },
    {
      "cell_type": "code",
      "source": [
        "# load necessary libraries\n",
        "import pandas as pd\n",
        "import numpy as np\n",
        "import matplotlib.pyplot as plt\n",
        "import seaborn as sns\n",
        "\n",
        "# for feature engineering\n",
        "from sklearn.model_selection import train_test_split\n",
        "from sklearn.linear_model import LinearRegression\n",
        "from sklearn.metrics import mean_squared_error"
      ],
      "metadata": {
        "id": "er1h90lVsNCf"
      },
      "id": "er1h90lVsNCf",
      "execution_count": 3,
      "outputs": []
    },
    {
      "cell_type": "code",
      "source": [
        "sns.set(style='whitegrid')     # Set visual style for seaborn"
      ],
      "metadata": {
        "id": "4ktI0lv5sL-X"
      },
      "id": "4ktI0lv5sL-X",
      "execution_count": 4,
      "outputs": []
    },
    {
      "cell_type": "markdown",
      "source": [
        "### Data"
      ],
      "metadata": {
        "id": "Gu_jVdecxJtE"
      },
      "id": "Gu_jVdecxJtE"
    },
    {
      "cell_type": "code",
      "source": [
        "# load the data\n",
        "df_Feb = pd.read_csv('/content/Machine-Learning-I/202402-capitalbikeshare-tripdata.csv')\n",
        "df_Mar = pd.read_csv('/content/Machine-Learning-I/202403-capitalbikeshare-tripdata.csv')\n",
        "df_Apr = pd.read_csv('/content/Machine-Learning-I/202404-capitalbikeshare-tripdata.csv')\n",
        "\n",
        "# data merge\n",
        "df_bike=pd.concat([df_Feb, df_Mar,df_Apr])"
      ],
      "metadata": {
        "id": "X4MzX_C0WHiq"
      },
      "id": "X4MzX_C0WHiq",
      "execution_count": 7,
      "outputs": []
    },
    {
      "cell_type": "code",
      "source": [
        "# getting to know the data\n",
        "print(f\"Train Data Shape: {df_bike.shape}\")\n",
        "print()\n",
        "\n",
        "df_bike.info()\n",
        "print()\n",
        "\n",
        "df_bike.head()"
      ],
      "metadata": {
        "colab": {
          "base_uri": "https://localhost:8080/",
          "height": 808
        },
        "id": "ArlHLZxhGYJW",
        "outputId": "652af12d-3d75-4c03-b851-fa2ca119de51"
      },
      "id": "ArlHLZxhGYJW",
      "execution_count": 8,
      "outputs": [
        {
          "output_type": "stream",
          "name": "stdout",
          "text": [
            "Train Data Shape: (1245899, 13)\n",
            "\n",
            "<class 'pandas.core.frame.DataFrame'>\n",
            "Index: 1245899 entries, 0 to 490264\n",
            "Data columns (total 13 columns):\n",
            " #   Column              Non-Null Count    Dtype  \n",
            "---  ------              --------------    -----  \n",
            " 0   ride_id             1245899 non-null  object \n",
            " 1   rideable_type       1245899 non-null  object \n",
            " 2   started_at          1245899 non-null  object \n",
            " 3   ended_at            1245899 non-null  object \n",
            " 4   start_station_name  1061748 non-null  object \n",
            " 5   start_station_id    1061748 non-null  float64\n",
            " 6   end_station_name    1052421 non-null  object \n",
            " 7   end_station_id      1052253 non-null  float64\n",
            " 8   start_lat           1245899 non-null  float64\n",
            " 9   start_lng           1245899 non-null  float64\n",
            " 10  end_lat             1244884 non-null  float64\n",
            " 11  end_lng             1244884 non-null  float64\n",
            " 12  member_casual       1245899 non-null  object \n",
            "dtypes: float64(6), object(7)\n",
            "memory usage: 133.1+ MB\n",
            "\n"
          ]
        },
        {
          "output_type": "execute_result",
          "data": {
            "text/plain": [
              "            ride_id  rideable_type           started_at             ended_at  \\\n",
              "0  24DBACC298E33BF6  electric_bike  2024-02-01 21:18:50  2024-02-01 21:27:36   \n",
              "1  FE1067800A18BC56  electric_bike  2024-02-06 17:15:33  2024-02-06 17:30:33   \n",
              "2  AD1962B215B5879D  electric_bike  2024-02-26 13:19:42  2024-02-26 13:30:44   \n",
              "3  3F8352E6D9EC4F85  electric_bike  2024-02-02 11:01:22  2024-02-02 11:05:14   \n",
              "4  D656DA87FA915F14  electric_bike  2024-02-25 08:28:18  2024-02-25 08:48:44   \n",
              "\n",
              "           start_station_name  start_station_id end_station_name  \\\n",
              "0      Eckington Pl & Q St NE           31505.0    5th & K St NW   \n",
              "1               4th & C St SW           31243.0              NaN   \n",
              "2  North Capitol St & F St NW           31624.0              NaN   \n",
              "3               1st & K St NE           31662.0              NaN   \n",
              "4   Virginia Ave & 25th St NW           31297.0              NaN   \n",
              "\n",
              "   end_station_id  start_lat  start_lng   end_lat    end_lng member_casual  \n",
              "0         31600.0  38.910893 -77.005023  38.90304 -77.019027        member  \n",
              "1             NaN  38.886443 -77.017388  38.91000 -76.980000        member  \n",
              "2             NaN  38.896907 -77.009684  38.90000 -77.010000        member  \n",
              "3             NaN  38.902394 -77.005614  38.90000 -77.010000        member  \n",
              "4             NaN  38.898456 -77.053075  38.91000 -77.060000        member  "
            ],
            "text/html": [
              "\n",
              "  <div id=\"df-9ffed218-7da6-48dd-b931-d04b3efe9b7e\" class=\"colab-df-container\">\n",
              "    <div>\n",
              "<style scoped>\n",
              "    .dataframe tbody tr th:only-of-type {\n",
              "        vertical-align: middle;\n",
              "    }\n",
              "\n",
              "    .dataframe tbody tr th {\n",
              "        vertical-align: top;\n",
              "    }\n",
              "\n",
              "    .dataframe thead th {\n",
              "        text-align: right;\n",
              "    }\n",
              "</style>\n",
              "<table border=\"1\" class=\"dataframe\">\n",
              "  <thead>\n",
              "    <tr style=\"text-align: right;\">\n",
              "      <th></th>\n",
              "      <th>ride_id</th>\n",
              "      <th>rideable_type</th>\n",
              "      <th>started_at</th>\n",
              "      <th>ended_at</th>\n",
              "      <th>start_station_name</th>\n",
              "      <th>start_station_id</th>\n",
              "      <th>end_station_name</th>\n",
              "      <th>end_station_id</th>\n",
              "      <th>start_lat</th>\n",
              "      <th>start_lng</th>\n",
              "      <th>end_lat</th>\n",
              "      <th>end_lng</th>\n",
              "      <th>member_casual</th>\n",
              "    </tr>\n",
              "  </thead>\n",
              "  <tbody>\n",
              "    <tr>\n",
              "      <th>0</th>\n",
              "      <td>24DBACC298E33BF6</td>\n",
              "      <td>electric_bike</td>\n",
              "      <td>2024-02-01 21:18:50</td>\n",
              "      <td>2024-02-01 21:27:36</td>\n",
              "      <td>Eckington Pl &amp; Q St NE</td>\n",
              "      <td>31505.0</td>\n",
              "      <td>5th &amp; K St NW</td>\n",
              "      <td>31600.0</td>\n",
              "      <td>38.910893</td>\n",
              "      <td>-77.005023</td>\n",
              "      <td>38.90304</td>\n",
              "      <td>-77.019027</td>\n",
              "      <td>member</td>\n",
              "    </tr>\n",
              "    <tr>\n",
              "      <th>1</th>\n",
              "      <td>FE1067800A18BC56</td>\n",
              "      <td>electric_bike</td>\n",
              "      <td>2024-02-06 17:15:33</td>\n",
              "      <td>2024-02-06 17:30:33</td>\n",
              "      <td>4th &amp; C St SW</td>\n",
              "      <td>31243.0</td>\n",
              "      <td>NaN</td>\n",
              "      <td>NaN</td>\n",
              "      <td>38.886443</td>\n",
              "      <td>-77.017388</td>\n",
              "      <td>38.91000</td>\n",
              "      <td>-76.980000</td>\n",
              "      <td>member</td>\n",
              "    </tr>\n",
              "    <tr>\n",
              "      <th>2</th>\n",
              "      <td>AD1962B215B5879D</td>\n",
              "      <td>electric_bike</td>\n",
              "      <td>2024-02-26 13:19:42</td>\n",
              "      <td>2024-02-26 13:30:44</td>\n",
              "      <td>North Capitol St &amp; F St NW</td>\n",
              "      <td>31624.0</td>\n",
              "      <td>NaN</td>\n",
              "      <td>NaN</td>\n",
              "      <td>38.896907</td>\n",
              "      <td>-77.009684</td>\n",
              "      <td>38.90000</td>\n",
              "      <td>-77.010000</td>\n",
              "      <td>member</td>\n",
              "    </tr>\n",
              "    <tr>\n",
              "      <th>3</th>\n",
              "      <td>3F8352E6D9EC4F85</td>\n",
              "      <td>electric_bike</td>\n",
              "      <td>2024-02-02 11:01:22</td>\n",
              "      <td>2024-02-02 11:05:14</td>\n",
              "      <td>1st &amp; K St NE</td>\n",
              "      <td>31662.0</td>\n",
              "      <td>NaN</td>\n",
              "      <td>NaN</td>\n",
              "      <td>38.902394</td>\n",
              "      <td>-77.005614</td>\n",
              "      <td>38.90000</td>\n",
              "      <td>-77.010000</td>\n",
              "      <td>member</td>\n",
              "    </tr>\n",
              "    <tr>\n",
              "      <th>4</th>\n",
              "      <td>D656DA87FA915F14</td>\n",
              "      <td>electric_bike</td>\n",
              "      <td>2024-02-25 08:28:18</td>\n",
              "      <td>2024-02-25 08:48:44</td>\n",
              "      <td>Virginia Ave &amp; 25th St NW</td>\n",
              "      <td>31297.0</td>\n",
              "      <td>NaN</td>\n",
              "      <td>NaN</td>\n",
              "      <td>38.898456</td>\n",
              "      <td>-77.053075</td>\n",
              "      <td>38.91000</td>\n",
              "      <td>-77.060000</td>\n",
              "      <td>member</td>\n",
              "    </tr>\n",
              "  </tbody>\n",
              "</table>\n",
              "</div>\n",
              "    <div class=\"colab-df-buttons\">\n",
              "\n",
              "  <div class=\"colab-df-container\">\n",
              "    <button class=\"colab-df-convert\" onclick=\"convertToInteractive('df-9ffed218-7da6-48dd-b931-d04b3efe9b7e')\"\n",
              "            title=\"Convert this dataframe to an interactive table.\"\n",
              "            style=\"display:none;\">\n",
              "\n",
              "  <svg xmlns=\"http://www.w3.org/2000/svg\" height=\"24px\" viewBox=\"0 -960 960 960\">\n",
              "    <path d=\"M120-120v-720h720v720H120Zm60-500h600v-160H180v160Zm220 220h160v-160H400v160Zm0 220h160v-160H400v160ZM180-400h160v-160H180v160Zm440 0h160v-160H620v160ZM180-180h160v-160H180v160Zm440 0h160v-160H620v160Z\"/>\n",
              "  </svg>\n",
              "    </button>\n",
              "\n",
              "  <style>\n",
              "    .colab-df-container {\n",
              "      display:flex;\n",
              "      gap: 12px;\n",
              "    }\n",
              "\n",
              "    .colab-df-convert {\n",
              "      background-color: #E8F0FE;\n",
              "      border: none;\n",
              "      border-radius: 50%;\n",
              "      cursor: pointer;\n",
              "      display: none;\n",
              "      fill: #1967D2;\n",
              "      height: 32px;\n",
              "      padding: 0 0 0 0;\n",
              "      width: 32px;\n",
              "    }\n",
              "\n",
              "    .colab-df-convert:hover {\n",
              "      background-color: #E2EBFA;\n",
              "      box-shadow: 0px 1px 2px rgba(60, 64, 67, 0.3), 0px 1px 3px 1px rgba(60, 64, 67, 0.15);\n",
              "      fill: #174EA6;\n",
              "    }\n",
              "\n",
              "    .colab-df-buttons div {\n",
              "      margin-bottom: 4px;\n",
              "    }\n",
              "\n",
              "    [theme=dark] .colab-df-convert {\n",
              "      background-color: #3B4455;\n",
              "      fill: #D2E3FC;\n",
              "    }\n",
              "\n",
              "    [theme=dark] .colab-df-convert:hover {\n",
              "      background-color: #434B5C;\n",
              "      box-shadow: 0px 1px 3px 1px rgba(0, 0, 0, 0.15);\n",
              "      filter: drop-shadow(0px 1px 2px rgba(0, 0, 0, 0.3));\n",
              "      fill: #FFFFFF;\n",
              "    }\n",
              "  </style>\n",
              "\n",
              "    <script>\n",
              "      const buttonEl =\n",
              "        document.querySelector('#df-9ffed218-7da6-48dd-b931-d04b3efe9b7e button.colab-df-convert');\n",
              "      buttonEl.style.display =\n",
              "        google.colab.kernel.accessAllowed ? 'block' : 'none';\n",
              "\n",
              "      async function convertToInteractive(key) {\n",
              "        const element = document.querySelector('#df-9ffed218-7da6-48dd-b931-d04b3efe9b7e');\n",
              "        const dataTable =\n",
              "          await google.colab.kernel.invokeFunction('convertToInteractive',\n",
              "                                                    [key], {});\n",
              "        if (!dataTable) return;\n",
              "\n",
              "        const docLinkHtml = 'Like what you see? Visit the ' +\n",
              "          '<a target=\"_blank\" href=https://colab.research.google.com/notebooks/data_table.ipynb>data table notebook</a>'\n",
              "          + ' to learn more about interactive tables.';\n",
              "        element.innerHTML = '';\n",
              "        dataTable['output_type'] = 'display_data';\n",
              "        await google.colab.output.renderOutput(dataTable, element);\n",
              "        const docLink = document.createElement('div');\n",
              "        docLink.innerHTML = docLinkHtml;\n",
              "        element.appendChild(docLink);\n",
              "      }\n",
              "    </script>\n",
              "  </div>\n",
              "\n",
              "\n",
              "<div id=\"df-b7132ae8-9ee2-4663-a57d-a03683897563\">\n",
              "  <button class=\"colab-df-quickchart\" onclick=\"quickchart('df-b7132ae8-9ee2-4663-a57d-a03683897563')\"\n",
              "            title=\"Suggest charts\"\n",
              "            style=\"display:none;\">\n",
              "\n",
              "<svg xmlns=\"http://www.w3.org/2000/svg\" height=\"24px\"viewBox=\"0 0 24 24\"\n",
              "     width=\"24px\">\n",
              "    <g>\n",
              "        <path d=\"M19 3H5c-1.1 0-2 .9-2 2v14c0 1.1.9 2 2 2h14c1.1 0 2-.9 2-2V5c0-1.1-.9-2-2-2zM9 17H7v-7h2v7zm4 0h-2V7h2v10zm4 0h-2v-4h2v4z\"/>\n",
              "    </g>\n",
              "</svg>\n",
              "  </button>\n",
              "\n",
              "<style>\n",
              "  .colab-df-quickchart {\n",
              "      --bg-color: #E8F0FE;\n",
              "      --fill-color: #1967D2;\n",
              "      --hover-bg-color: #E2EBFA;\n",
              "      --hover-fill-color: #174EA6;\n",
              "      --disabled-fill-color: #AAA;\n",
              "      --disabled-bg-color: #DDD;\n",
              "  }\n",
              "\n",
              "  [theme=dark] .colab-df-quickchart {\n",
              "      --bg-color: #3B4455;\n",
              "      --fill-color: #D2E3FC;\n",
              "      --hover-bg-color: #434B5C;\n",
              "      --hover-fill-color: #FFFFFF;\n",
              "      --disabled-bg-color: #3B4455;\n",
              "      --disabled-fill-color: #666;\n",
              "  }\n",
              "\n",
              "  .colab-df-quickchart {\n",
              "    background-color: var(--bg-color);\n",
              "    border: none;\n",
              "    border-radius: 50%;\n",
              "    cursor: pointer;\n",
              "    display: none;\n",
              "    fill: var(--fill-color);\n",
              "    height: 32px;\n",
              "    padding: 0;\n",
              "    width: 32px;\n",
              "  }\n",
              "\n",
              "  .colab-df-quickchart:hover {\n",
              "    background-color: var(--hover-bg-color);\n",
              "    box-shadow: 0 1px 2px rgba(60, 64, 67, 0.3), 0 1px 3px 1px rgba(60, 64, 67, 0.15);\n",
              "    fill: var(--button-hover-fill-color);\n",
              "  }\n",
              "\n",
              "  .colab-df-quickchart-complete:disabled,\n",
              "  .colab-df-quickchart-complete:disabled:hover {\n",
              "    background-color: var(--disabled-bg-color);\n",
              "    fill: var(--disabled-fill-color);\n",
              "    box-shadow: none;\n",
              "  }\n",
              "\n",
              "  .colab-df-spinner {\n",
              "    border: 2px solid var(--fill-color);\n",
              "    border-color: transparent;\n",
              "    border-bottom-color: var(--fill-color);\n",
              "    animation:\n",
              "      spin 1s steps(1) infinite;\n",
              "  }\n",
              "\n",
              "  @keyframes spin {\n",
              "    0% {\n",
              "      border-color: transparent;\n",
              "      border-bottom-color: var(--fill-color);\n",
              "      border-left-color: var(--fill-color);\n",
              "    }\n",
              "    20% {\n",
              "      border-color: transparent;\n",
              "      border-left-color: var(--fill-color);\n",
              "      border-top-color: var(--fill-color);\n",
              "    }\n",
              "    30% {\n",
              "      border-color: transparent;\n",
              "      border-left-color: var(--fill-color);\n",
              "      border-top-color: var(--fill-color);\n",
              "      border-right-color: var(--fill-color);\n",
              "    }\n",
              "    40% {\n",
              "      border-color: transparent;\n",
              "      border-right-color: var(--fill-color);\n",
              "      border-top-color: var(--fill-color);\n",
              "    }\n",
              "    60% {\n",
              "      border-color: transparent;\n",
              "      border-right-color: var(--fill-color);\n",
              "    }\n",
              "    80% {\n",
              "      border-color: transparent;\n",
              "      border-right-color: var(--fill-color);\n",
              "      border-bottom-color: var(--fill-color);\n",
              "    }\n",
              "    90% {\n",
              "      border-color: transparent;\n",
              "      border-bottom-color: var(--fill-color);\n",
              "    }\n",
              "  }\n",
              "</style>\n",
              "\n",
              "  <script>\n",
              "    async function quickchart(key) {\n",
              "      const quickchartButtonEl =\n",
              "        document.querySelector('#' + key + ' button');\n",
              "      quickchartButtonEl.disabled = true;  // To prevent multiple clicks.\n",
              "      quickchartButtonEl.classList.add('colab-df-spinner');\n",
              "      try {\n",
              "        const charts = await google.colab.kernel.invokeFunction(\n",
              "            'suggestCharts', [key], {});\n",
              "      } catch (error) {\n",
              "        console.error('Error during call to suggestCharts:', error);\n",
              "      }\n",
              "      quickchartButtonEl.classList.remove('colab-df-spinner');\n",
              "      quickchartButtonEl.classList.add('colab-df-quickchart-complete');\n",
              "    }\n",
              "    (() => {\n",
              "      let quickchartButtonEl =\n",
              "        document.querySelector('#df-b7132ae8-9ee2-4663-a57d-a03683897563 button');\n",
              "      quickchartButtonEl.style.display =\n",
              "        google.colab.kernel.accessAllowed ? 'block' : 'none';\n",
              "    })();\n",
              "  </script>\n",
              "</div>\n",
              "\n",
              "    </div>\n",
              "  </div>\n"
            ],
            "application/vnd.google.colaboratory.intrinsic+json": {
              "type": "dataframe",
              "variable_name": "df_bike"
            }
          },
          "metadata": {},
          "execution_count": 8
        }
      ]
    },
    {
      "cell_type": "markdown",
      "source": [
        "### Data cleaning"
      ],
      "metadata": {
        "id": "93okgMOczLA_"
      },
      "id": "93okgMOczLA_"
    },
    {
      "cell_type": "markdown",
      "source": [
        "This research will be focusing on the GWSB Station: '22nd & H St NW'"
      ],
      "metadata": {
        "id": "aVqYNoxrcbyD"
      },
      "id": "aVqYNoxrcbyD"
    },
    {
      "cell_type": "markdown",
      "id": "1520a1db",
      "metadata": {
        "id": "1520a1db"
      },
      "source": [
        "**Bike Availability: Number of Pickups**"
      ]
    },
    {
      "cell_type": "code",
      "source": [
        "# inspecting the started_at column\n",
        "df_bike['started_at'].head(10)"
      ],
      "metadata": {
        "colab": {
          "base_uri": "https://localhost:8080/",
          "height": 397
        },
        "id": "7lPk5CIBy4yD",
        "outputId": "4848dc5a-8c85-40a2-d738-2423c47f09c2"
      },
      "id": "7lPk5CIBy4yD",
      "execution_count": 15,
      "outputs": [
        {
          "output_type": "execute_result",
          "data": {
            "text/plain": [
              "0    2024-02-01 21:18:50\n",
              "1    2024-02-06 17:15:33\n",
              "2    2024-02-26 13:19:42\n",
              "3    2024-02-02 11:01:22\n",
              "4    2024-02-25 08:28:18\n",
              "5    2024-02-24 16:12:24\n",
              "6    2024-02-23 19:12:38\n",
              "7    2024-02-15 08:58:20\n",
              "8    2024-02-29 14:39:10\n",
              "9    2024-02-08 08:12:24\n",
              "Name: started_at, dtype: object"
            ],
            "text/html": [
              "<div>\n",
              "<style scoped>\n",
              "    .dataframe tbody tr th:only-of-type {\n",
              "        vertical-align: middle;\n",
              "    }\n",
              "\n",
              "    .dataframe tbody tr th {\n",
              "        vertical-align: top;\n",
              "    }\n",
              "\n",
              "    .dataframe thead th {\n",
              "        text-align: right;\n",
              "    }\n",
              "</style>\n",
              "<table border=\"1\" class=\"dataframe\">\n",
              "  <thead>\n",
              "    <tr style=\"text-align: right;\">\n",
              "      <th></th>\n",
              "      <th>started_at</th>\n",
              "    </tr>\n",
              "  </thead>\n",
              "  <tbody>\n",
              "    <tr>\n",
              "      <th>0</th>\n",
              "      <td>2024-02-01 21:18:50</td>\n",
              "    </tr>\n",
              "    <tr>\n",
              "      <th>1</th>\n",
              "      <td>2024-02-06 17:15:33</td>\n",
              "    </tr>\n",
              "    <tr>\n",
              "      <th>2</th>\n",
              "      <td>2024-02-26 13:19:42</td>\n",
              "    </tr>\n",
              "    <tr>\n",
              "      <th>3</th>\n",
              "      <td>2024-02-02 11:01:22</td>\n",
              "    </tr>\n",
              "    <tr>\n",
              "      <th>4</th>\n",
              "      <td>2024-02-25 08:28:18</td>\n",
              "    </tr>\n",
              "    <tr>\n",
              "      <th>5</th>\n",
              "      <td>2024-02-24 16:12:24</td>\n",
              "    </tr>\n",
              "    <tr>\n",
              "      <th>6</th>\n",
              "      <td>2024-02-23 19:12:38</td>\n",
              "    </tr>\n",
              "    <tr>\n",
              "      <th>7</th>\n",
              "      <td>2024-02-15 08:58:20</td>\n",
              "    </tr>\n",
              "    <tr>\n",
              "      <th>8</th>\n",
              "      <td>2024-02-29 14:39:10</td>\n",
              "    </tr>\n",
              "    <tr>\n",
              "      <th>9</th>\n",
              "      <td>2024-02-08 08:12:24</td>\n",
              "    </tr>\n",
              "  </tbody>\n",
              "</table>\n",
              "</div><br><label><b>dtype:</b> object</label>"
            ]
          },
          "metadata": {},
          "execution_count": 15
        }
      ]
    },
    {
      "cell_type": "code",
      "source": [
        "# converting the 'started_at' column to datetime objects\n",
        "df_bike['started_at_date'] = pd.to_datetime(df_bike['started_at']).dt.date\n",
        "df_bike['started_at_date'].head()"
      ],
      "metadata": {
        "colab": {
          "base_uri": "https://localhost:8080/",
          "height": 241
        },
        "id": "kU138hN1zSRZ",
        "outputId": "538e7cbf-85f0-4f63-d504-f68322e15057"
      },
      "id": "kU138hN1zSRZ",
      "execution_count": 24,
      "outputs": [
        {
          "output_type": "execute_result",
          "data": {
            "text/plain": [
              "0    2024-02-01\n",
              "1    2024-02-06\n",
              "2    2024-02-26\n",
              "3    2024-02-02\n",
              "4    2024-02-25\n",
              "Name: started_at_date, dtype: object"
            ],
            "text/html": [
              "<div>\n",
              "<style scoped>\n",
              "    .dataframe tbody tr th:only-of-type {\n",
              "        vertical-align: middle;\n",
              "    }\n",
              "\n",
              "    .dataframe tbody tr th {\n",
              "        vertical-align: top;\n",
              "    }\n",
              "\n",
              "    .dataframe thead th {\n",
              "        text-align: right;\n",
              "    }\n",
              "</style>\n",
              "<table border=\"1\" class=\"dataframe\">\n",
              "  <thead>\n",
              "    <tr style=\"text-align: right;\">\n",
              "      <th></th>\n",
              "      <th>started_at_date</th>\n",
              "    </tr>\n",
              "  </thead>\n",
              "  <tbody>\n",
              "    <tr>\n",
              "      <th>0</th>\n",
              "      <td>2024-02-01</td>\n",
              "    </tr>\n",
              "    <tr>\n",
              "      <th>1</th>\n",
              "      <td>2024-02-06</td>\n",
              "    </tr>\n",
              "    <tr>\n",
              "      <th>2</th>\n",
              "      <td>2024-02-26</td>\n",
              "    </tr>\n",
              "    <tr>\n",
              "      <th>3</th>\n",
              "      <td>2024-02-02</td>\n",
              "    </tr>\n",
              "    <tr>\n",
              "      <th>4</th>\n",
              "      <td>2024-02-25</td>\n",
              "    </tr>\n",
              "  </tbody>\n",
              "</table>\n",
              "</div><br><label><b>dtype:</b> object</label>"
            ]
          },
          "metadata": {},
          "execution_count": 24
        }
      ]
    },
    {
      "cell_type": "code",
      "source": [
        "# inspecting start_station_name column\n",
        "df_bike['start_station_name'].head()"
      ],
      "metadata": {
        "colab": {
          "base_uri": "https://localhost:8080/",
          "height": 241
        },
        "id": "-4piYz7kzxxr",
        "outputId": "4bd0b88b-17b3-4c04-c29c-69d66f5c62d3"
      },
      "id": "-4piYz7kzxxr",
      "execution_count": 19,
      "outputs": [
        {
          "output_type": "execute_result",
          "data": {
            "text/plain": [
              "0        Eckington Pl & Q St NE\n",
              "1                 4th & C St SW\n",
              "2    North Capitol St & F St NW\n",
              "3                 1st & K St NE\n",
              "4     Virginia Ave & 25th St NW\n",
              "Name: start_station_name, dtype: object"
            ],
            "text/html": [
              "<div>\n",
              "<style scoped>\n",
              "    .dataframe tbody tr th:only-of-type {\n",
              "        vertical-align: middle;\n",
              "    }\n",
              "\n",
              "    .dataframe tbody tr th {\n",
              "        vertical-align: top;\n",
              "    }\n",
              "\n",
              "    .dataframe thead th {\n",
              "        text-align: right;\n",
              "    }\n",
              "</style>\n",
              "<table border=\"1\" class=\"dataframe\">\n",
              "  <thead>\n",
              "    <tr style=\"text-align: right;\">\n",
              "      <th></th>\n",
              "      <th>start_station_name</th>\n",
              "    </tr>\n",
              "  </thead>\n",
              "  <tbody>\n",
              "    <tr>\n",
              "      <th>0</th>\n",
              "      <td>Eckington Pl &amp; Q St NE</td>\n",
              "    </tr>\n",
              "    <tr>\n",
              "      <th>1</th>\n",
              "      <td>4th &amp; C St SW</td>\n",
              "    </tr>\n",
              "    <tr>\n",
              "      <th>2</th>\n",
              "      <td>North Capitol St &amp; F St NW</td>\n",
              "    </tr>\n",
              "    <tr>\n",
              "      <th>3</th>\n",
              "      <td>1st &amp; K St NE</td>\n",
              "    </tr>\n",
              "    <tr>\n",
              "      <th>4</th>\n",
              "      <td>Virginia Ave &amp; 25th St NW</td>\n",
              "    </tr>\n",
              "  </tbody>\n",
              "</table>\n",
              "</div><br><label><b>dtype:</b> object</label>"
            ]
          },
          "metadata": {},
          "execution_count": 19
        }
      ]
    },
    {
      "cell_type": "code",
      "source": [
        "# filtering trips starting from location '22nd & H St NW'\n",
        "PU_trips = df_bike[df_bike['start_station_name'] == '22nd & H St NW']"
      ],
      "metadata": {
        "id": "N-sKScDOz8Uf"
      },
      "id": "N-sKScDOz8Uf",
      "execution_count": 20,
      "outputs": []
    },
    {
      "cell_type": "code",
      "source": [
        "# grouping by date and counting the trips on that date\n",
        "PU_counts = PU_trips.groupby('started_at_date')['started_at_date'].count()\n",
        "\n",
        "PU_counts"
      ],
      "metadata": {
        "colab": {
          "base_uri": "https://localhost:8080/",
          "height": 490
        },
        "id": "y3VxzXhcZn-k",
        "outputId": "b4a68c26-6c57-4799-804b-7abb626f059d"
      },
      "id": "y3VxzXhcZn-k",
      "execution_count": 25,
      "outputs": [
        {
          "output_type": "execute_result",
          "data": {
            "text/plain": [
              "started_at_date\n",
              "2024-02-01    33\n",
              "2024-02-02    23\n",
              "2024-02-03    22\n",
              "2024-02-04    18\n",
              "2024-02-05    19\n",
              "              ..\n",
              "2024-04-26    33\n",
              "2024-04-27    18\n",
              "2024-04-28    36\n",
              "2024-04-29    37\n",
              "2024-04-30    40\n",
              "Name: started_at_date, Length: 90, dtype: int64"
            ],
            "text/html": [
              "<div>\n",
              "<style scoped>\n",
              "    .dataframe tbody tr th:only-of-type {\n",
              "        vertical-align: middle;\n",
              "    }\n",
              "\n",
              "    .dataframe tbody tr th {\n",
              "        vertical-align: top;\n",
              "    }\n",
              "\n",
              "    .dataframe thead th {\n",
              "        text-align: right;\n",
              "    }\n",
              "</style>\n",
              "<table border=\"1\" class=\"dataframe\">\n",
              "  <thead>\n",
              "    <tr style=\"text-align: right;\">\n",
              "      <th></th>\n",
              "      <th>started_at_date</th>\n",
              "    </tr>\n",
              "    <tr>\n",
              "      <th>started_at_date</th>\n",
              "      <th></th>\n",
              "    </tr>\n",
              "  </thead>\n",
              "  <tbody>\n",
              "    <tr>\n",
              "      <th>2024-02-01</th>\n",
              "      <td>33</td>\n",
              "    </tr>\n",
              "    <tr>\n",
              "      <th>2024-02-02</th>\n",
              "      <td>23</td>\n",
              "    </tr>\n",
              "    <tr>\n",
              "      <th>2024-02-03</th>\n",
              "      <td>22</td>\n",
              "    </tr>\n",
              "    <tr>\n",
              "      <th>2024-02-04</th>\n",
              "      <td>18</td>\n",
              "    </tr>\n",
              "    <tr>\n",
              "      <th>2024-02-05</th>\n",
              "      <td>19</td>\n",
              "    </tr>\n",
              "    <tr>\n",
              "      <th>...</th>\n",
              "      <td>...</td>\n",
              "    </tr>\n",
              "    <tr>\n",
              "      <th>2024-04-26</th>\n",
              "      <td>33</td>\n",
              "    </tr>\n",
              "    <tr>\n",
              "      <th>2024-04-27</th>\n",
              "      <td>18</td>\n",
              "    </tr>\n",
              "    <tr>\n",
              "      <th>2024-04-28</th>\n",
              "      <td>36</td>\n",
              "    </tr>\n",
              "    <tr>\n",
              "      <th>2024-04-29</th>\n",
              "      <td>37</td>\n",
              "    </tr>\n",
              "    <tr>\n",
              "      <th>2024-04-30</th>\n",
              "      <td>40</td>\n",
              "    </tr>\n",
              "  </tbody>\n",
              "</table>\n",
              "<p>90 rows × 1 columns</p>\n",
              "</div><br><label><b>dtype:</b> int64</label>"
            ]
          },
          "metadata": {},
          "execution_count": 25
        }
      ]
    },
    {
      "cell_type": "markdown",
      "source": [
        "**Dock Availability: Number of Dropoffs**"
      ],
      "metadata": {
        "id": "NMY1dXxqdAPt"
      },
      "id": "NMY1dXxqdAPt"
    },
    {
      "cell_type": "code",
      "source": [
        "# inspecting drop ended_at column\n",
        "df_bike['ended_at'].head()"
      ],
      "metadata": {
        "id": "gGgi97XP2d3r",
        "outputId": "99f47736-95fb-47de-fc3e-b6eeae2b7df9",
        "colab": {
          "base_uri": "https://localhost:8080/",
          "height": 241
        }
      },
      "id": "gGgi97XP2d3r",
      "execution_count": 27,
      "outputs": [
        {
          "output_type": "execute_result",
          "data": {
            "text/plain": [
              "0    2024-02-01 21:27:36\n",
              "1    2024-02-06 17:30:33\n",
              "2    2024-02-26 13:30:44\n",
              "3    2024-02-02 11:05:14\n",
              "4    2024-02-25 08:48:44\n",
              "Name: ended_at, dtype: object"
            ],
            "text/html": [
              "<div>\n",
              "<style scoped>\n",
              "    .dataframe tbody tr th:only-of-type {\n",
              "        vertical-align: middle;\n",
              "    }\n",
              "\n",
              "    .dataframe tbody tr th {\n",
              "        vertical-align: top;\n",
              "    }\n",
              "\n",
              "    .dataframe thead th {\n",
              "        text-align: right;\n",
              "    }\n",
              "</style>\n",
              "<table border=\"1\" class=\"dataframe\">\n",
              "  <thead>\n",
              "    <tr style=\"text-align: right;\">\n",
              "      <th></th>\n",
              "      <th>ended_at</th>\n",
              "    </tr>\n",
              "  </thead>\n",
              "  <tbody>\n",
              "    <tr>\n",
              "      <th>0</th>\n",
              "      <td>2024-02-01 21:27:36</td>\n",
              "    </tr>\n",
              "    <tr>\n",
              "      <th>1</th>\n",
              "      <td>2024-02-06 17:30:33</td>\n",
              "    </tr>\n",
              "    <tr>\n",
              "      <th>2</th>\n",
              "      <td>2024-02-26 13:30:44</td>\n",
              "    </tr>\n",
              "    <tr>\n",
              "      <th>3</th>\n",
              "      <td>2024-02-02 11:05:14</td>\n",
              "    </tr>\n",
              "    <tr>\n",
              "      <th>4</th>\n",
              "      <td>2024-02-25 08:48:44</td>\n",
              "    </tr>\n",
              "  </tbody>\n",
              "</table>\n",
              "</div><br><label><b>dtype:</b> object</label>"
            ]
          },
          "metadata": {},
          "execution_count": 27
        }
      ]
    },
    {
      "cell_type": "code",
      "source": [
        "# convertin the 'ended_at' column to datetime objects\n",
        "df_bike['ended_at_date'] = pd.to_datetime(df_bike['ended_at']).dt.date\n",
        "df_bike['ended_at_date'].head(10)"
      ],
      "metadata": {
        "id": "DtrKFRzw2p8m",
        "outputId": "5670e755-461e-4dec-d5b3-cc463b51ab35",
        "colab": {
          "base_uri": "https://localhost:8080/",
          "height": 397
        }
      },
      "id": "DtrKFRzw2p8m",
      "execution_count": 28,
      "outputs": [
        {
          "output_type": "execute_result",
          "data": {
            "text/plain": [
              "0    2024-02-01\n",
              "1    2024-02-06\n",
              "2    2024-02-26\n",
              "3    2024-02-02\n",
              "4    2024-02-25\n",
              "5    2024-02-24\n",
              "6    2024-02-23\n",
              "7    2024-02-15\n",
              "8    2024-02-29\n",
              "9    2024-02-08\n",
              "Name: ended_at_date, dtype: object"
            ],
            "text/html": [
              "<div>\n",
              "<style scoped>\n",
              "    .dataframe tbody tr th:only-of-type {\n",
              "        vertical-align: middle;\n",
              "    }\n",
              "\n",
              "    .dataframe tbody tr th {\n",
              "        vertical-align: top;\n",
              "    }\n",
              "\n",
              "    .dataframe thead th {\n",
              "        text-align: right;\n",
              "    }\n",
              "</style>\n",
              "<table border=\"1\" class=\"dataframe\">\n",
              "  <thead>\n",
              "    <tr style=\"text-align: right;\">\n",
              "      <th></th>\n",
              "      <th>ended_at_date</th>\n",
              "    </tr>\n",
              "  </thead>\n",
              "  <tbody>\n",
              "    <tr>\n",
              "      <th>0</th>\n",
              "      <td>2024-02-01</td>\n",
              "    </tr>\n",
              "    <tr>\n",
              "      <th>1</th>\n",
              "      <td>2024-02-06</td>\n",
              "    </tr>\n",
              "    <tr>\n",
              "      <th>2</th>\n",
              "      <td>2024-02-26</td>\n",
              "    </tr>\n",
              "    <tr>\n",
              "      <th>3</th>\n",
              "      <td>2024-02-02</td>\n",
              "    </tr>\n",
              "    <tr>\n",
              "      <th>4</th>\n",
              "      <td>2024-02-25</td>\n",
              "    </tr>\n",
              "    <tr>\n",
              "      <th>5</th>\n",
              "      <td>2024-02-24</td>\n",
              "    </tr>\n",
              "    <tr>\n",
              "      <th>6</th>\n",
              "      <td>2024-02-23</td>\n",
              "    </tr>\n",
              "    <tr>\n",
              "      <th>7</th>\n",
              "      <td>2024-02-15</td>\n",
              "    </tr>\n",
              "    <tr>\n",
              "      <th>8</th>\n",
              "      <td>2024-02-29</td>\n",
              "    </tr>\n",
              "    <tr>\n",
              "      <th>9</th>\n",
              "      <td>2024-02-08</td>\n",
              "    </tr>\n",
              "  </tbody>\n",
              "</table>\n",
              "</div><br><label><b>dtype:</b> object</label>"
            ]
          },
          "metadata": {},
          "execution_count": 28
        }
      ]
    },
    {
      "cell_type": "code",
      "source": [
        "# inspecting the end_station_name column\n",
        "df_bike['end_station_name'].head()"
      ],
      "metadata": {
        "id": "sROeYNAu214Y",
        "outputId": "e7cd5fd2-b0d6-4f3d-ab2e-d8c4aad05b3e",
        "colab": {
          "base_uri": "https://localhost:8080/",
          "height": 241
        }
      },
      "id": "sROeYNAu214Y",
      "execution_count": 30,
      "outputs": [
        {
          "output_type": "execute_result",
          "data": {
            "text/plain": [
              "0    5th & K St NW\n",
              "1              NaN\n",
              "2              NaN\n",
              "3              NaN\n",
              "4              NaN\n",
              "Name: end_station_name, dtype: object"
            ],
            "text/html": [
              "<div>\n",
              "<style scoped>\n",
              "    .dataframe tbody tr th:only-of-type {\n",
              "        vertical-align: middle;\n",
              "    }\n",
              "\n",
              "    .dataframe tbody tr th {\n",
              "        vertical-align: top;\n",
              "    }\n",
              "\n",
              "    .dataframe thead th {\n",
              "        text-align: right;\n",
              "    }\n",
              "</style>\n",
              "<table border=\"1\" class=\"dataframe\">\n",
              "  <thead>\n",
              "    <tr style=\"text-align: right;\">\n",
              "      <th></th>\n",
              "      <th>end_station_name</th>\n",
              "    </tr>\n",
              "  </thead>\n",
              "  <tbody>\n",
              "    <tr>\n",
              "      <th>0</th>\n",
              "      <td>5th &amp; K St NW</td>\n",
              "    </tr>\n",
              "    <tr>\n",
              "      <th>1</th>\n",
              "      <td>NaN</td>\n",
              "    </tr>\n",
              "    <tr>\n",
              "      <th>2</th>\n",
              "      <td>NaN</td>\n",
              "    </tr>\n",
              "    <tr>\n",
              "      <th>3</th>\n",
              "      <td>NaN</td>\n",
              "    </tr>\n",
              "    <tr>\n",
              "      <th>4</th>\n",
              "      <td>NaN</td>\n",
              "    </tr>\n",
              "  </tbody>\n",
              "</table>\n",
              "</div><br><label><b>dtype:</b> object</label>"
            ]
          },
          "metadata": {},
          "execution_count": 30
        }
      ]
    },
    {
      "cell_type": "code",
      "source": [
        "# filtering trips ending at destination '22nd & H St NW'\n",
        "DO_trips = df_bike[df_bike['end_station_name'] == '22nd & H St NW']\n",
        "DO_trips.head()"
      ],
      "metadata": {
        "id": "neaPq3tM28Bn",
        "outputId": "d250ba5e-65a2-4087-f175-50a1cebcc629",
        "colab": {
          "base_uri": "https://localhost:8080/",
          "height": 400
        }
      },
      "id": "neaPq3tM28Bn",
      "execution_count": 31,
      "outputs": [
        {
          "output_type": "execute_result",
          "data": {
            "text/plain": [
              "               ride_id  rideable_type           started_at  \\\n",
              "1398  3E6F60E28CD53F29   classic_bike  2024-02-17 16:08:24   \n",
              "1403  F1B9FCA75E7A4ED8   classic_bike  2024-02-17 00:29:17   \n",
              "1409  9324D853D41E09CC  electric_bike  2024-02-02 13:33:24   \n",
              "1418  D41D95AE5813E767   classic_bike  2024-02-02 09:03:42   \n",
              "1431  0A0795A6A8EF463E   classic_bike  2024-02-08 13:46:46   \n",
              "\n",
              "                 ended_at                         start_station_name  \\\n",
              "1398  2024-02-17 16:13:41                             17th & G St NW   \n",
              "1403  2024-02-17 00:41:14  7th & F St NW / National Portrait Gallery   \n",
              "1409  2024-02-02 13:46:29     37th & O St NW / Georgetown University   \n",
              "1418  2024-02-02 09:40:01                        Eads St & 15th St S   \n",
              "1431  2024-02-08 14:05:46                Wilson Blvd & N Edgewood St   \n",
              "\n",
              "      start_station_id end_station_name  end_station_id  start_lat  start_lng  \\\n",
              "1398           31277.0   22nd & H St NW         31127.0  38.898301 -77.039643   \n",
              "1403           31232.0   22nd & H St NW         31127.0  38.897283 -77.022191   \n",
              "1409           31236.0   22nd & H St NW         31127.0  38.907937 -77.071677   \n",
              "1418           31000.0   22nd & H St NW         31127.0  38.859751 -77.053235   \n",
              "1431           31019.0   22nd & H St NW         31127.0  38.889396 -77.091862   \n",
              "\n",
              "        end_lat    end_lng member_casual started_at_date ended_at_date  \n",
              "1398  38.898925 -77.048852        member      2024-02-17    2024-02-17  \n",
              "1403  38.898925 -77.048852        member      2024-02-17    2024-02-17  \n",
              "1409  38.898925 -77.048852        casual      2024-02-02    2024-02-02  \n",
              "1418  38.898925 -77.048852        member      2024-02-02    2024-02-02  \n",
              "1431  38.898925 -77.048852        member      2024-02-08    2024-02-08  "
            ],
            "text/html": [
              "\n",
              "  <div id=\"df-504ee2e4-1826-4988-a10b-e445f7fffc94\" class=\"colab-df-container\">\n",
              "    <div>\n",
              "<style scoped>\n",
              "    .dataframe tbody tr th:only-of-type {\n",
              "        vertical-align: middle;\n",
              "    }\n",
              "\n",
              "    .dataframe tbody tr th {\n",
              "        vertical-align: top;\n",
              "    }\n",
              "\n",
              "    .dataframe thead th {\n",
              "        text-align: right;\n",
              "    }\n",
              "</style>\n",
              "<table border=\"1\" class=\"dataframe\">\n",
              "  <thead>\n",
              "    <tr style=\"text-align: right;\">\n",
              "      <th></th>\n",
              "      <th>ride_id</th>\n",
              "      <th>rideable_type</th>\n",
              "      <th>started_at</th>\n",
              "      <th>ended_at</th>\n",
              "      <th>start_station_name</th>\n",
              "      <th>start_station_id</th>\n",
              "      <th>end_station_name</th>\n",
              "      <th>end_station_id</th>\n",
              "      <th>start_lat</th>\n",
              "      <th>start_lng</th>\n",
              "      <th>end_lat</th>\n",
              "      <th>end_lng</th>\n",
              "      <th>member_casual</th>\n",
              "      <th>started_at_date</th>\n",
              "      <th>ended_at_date</th>\n",
              "    </tr>\n",
              "  </thead>\n",
              "  <tbody>\n",
              "    <tr>\n",
              "      <th>1398</th>\n",
              "      <td>3E6F60E28CD53F29</td>\n",
              "      <td>classic_bike</td>\n",
              "      <td>2024-02-17 16:08:24</td>\n",
              "      <td>2024-02-17 16:13:41</td>\n",
              "      <td>17th &amp; G St NW</td>\n",
              "      <td>31277.0</td>\n",
              "      <td>22nd &amp; H St NW</td>\n",
              "      <td>31127.0</td>\n",
              "      <td>38.898301</td>\n",
              "      <td>-77.039643</td>\n",
              "      <td>38.898925</td>\n",
              "      <td>-77.048852</td>\n",
              "      <td>member</td>\n",
              "      <td>2024-02-17</td>\n",
              "      <td>2024-02-17</td>\n",
              "    </tr>\n",
              "    <tr>\n",
              "      <th>1403</th>\n",
              "      <td>F1B9FCA75E7A4ED8</td>\n",
              "      <td>classic_bike</td>\n",
              "      <td>2024-02-17 00:29:17</td>\n",
              "      <td>2024-02-17 00:41:14</td>\n",
              "      <td>7th &amp; F St NW / National Portrait Gallery</td>\n",
              "      <td>31232.0</td>\n",
              "      <td>22nd &amp; H St NW</td>\n",
              "      <td>31127.0</td>\n",
              "      <td>38.897283</td>\n",
              "      <td>-77.022191</td>\n",
              "      <td>38.898925</td>\n",
              "      <td>-77.048852</td>\n",
              "      <td>member</td>\n",
              "      <td>2024-02-17</td>\n",
              "      <td>2024-02-17</td>\n",
              "    </tr>\n",
              "    <tr>\n",
              "      <th>1409</th>\n",
              "      <td>9324D853D41E09CC</td>\n",
              "      <td>electric_bike</td>\n",
              "      <td>2024-02-02 13:33:24</td>\n",
              "      <td>2024-02-02 13:46:29</td>\n",
              "      <td>37th &amp; O St NW / Georgetown University</td>\n",
              "      <td>31236.0</td>\n",
              "      <td>22nd &amp; H St NW</td>\n",
              "      <td>31127.0</td>\n",
              "      <td>38.907937</td>\n",
              "      <td>-77.071677</td>\n",
              "      <td>38.898925</td>\n",
              "      <td>-77.048852</td>\n",
              "      <td>casual</td>\n",
              "      <td>2024-02-02</td>\n",
              "      <td>2024-02-02</td>\n",
              "    </tr>\n",
              "    <tr>\n",
              "      <th>1418</th>\n",
              "      <td>D41D95AE5813E767</td>\n",
              "      <td>classic_bike</td>\n",
              "      <td>2024-02-02 09:03:42</td>\n",
              "      <td>2024-02-02 09:40:01</td>\n",
              "      <td>Eads St &amp; 15th St S</td>\n",
              "      <td>31000.0</td>\n",
              "      <td>22nd &amp; H St NW</td>\n",
              "      <td>31127.0</td>\n",
              "      <td>38.859751</td>\n",
              "      <td>-77.053235</td>\n",
              "      <td>38.898925</td>\n",
              "      <td>-77.048852</td>\n",
              "      <td>member</td>\n",
              "      <td>2024-02-02</td>\n",
              "      <td>2024-02-02</td>\n",
              "    </tr>\n",
              "    <tr>\n",
              "      <th>1431</th>\n",
              "      <td>0A0795A6A8EF463E</td>\n",
              "      <td>classic_bike</td>\n",
              "      <td>2024-02-08 13:46:46</td>\n",
              "      <td>2024-02-08 14:05:46</td>\n",
              "      <td>Wilson Blvd &amp; N Edgewood St</td>\n",
              "      <td>31019.0</td>\n",
              "      <td>22nd &amp; H St NW</td>\n",
              "      <td>31127.0</td>\n",
              "      <td>38.889396</td>\n",
              "      <td>-77.091862</td>\n",
              "      <td>38.898925</td>\n",
              "      <td>-77.048852</td>\n",
              "      <td>member</td>\n",
              "      <td>2024-02-08</td>\n",
              "      <td>2024-02-08</td>\n",
              "    </tr>\n",
              "  </tbody>\n",
              "</table>\n",
              "</div>\n",
              "    <div class=\"colab-df-buttons\">\n",
              "\n",
              "  <div class=\"colab-df-container\">\n",
              "    <button class=\"colab-df-convert\" onclick=\"convertToInteractive('df-504ee2e4-1826-4988-a10b-e445f7fffc94')\"\n",
              "            title=\"Convert this dataframe to an interactive table.\"\n",
              "            style=\"display:none;\">\n",
              "\n",
              "  <svg xmlns=\"http://www.w3.org/2000/svg\" height=\"24px\" viewBox=\"0 -960 960 960\">\n",
              "    <path d=\"M120-120v-720h720v720H120Zm60-500h600v-160H180v160Zm220 220h160v-160H400v160Zm0 220h160v-160H400v160ZM180-400h160v-160H180v160Zm440 0h160v-160H620v160ZM180-180h160v-160H180v160Zm440 0h160v-160H620v160Z\"/>\n",
              "  </svg>\n",
              "    </button>\n",
              "\n",
              "  <style>\n",
              "    .colab-df-container {\n",
              "      display:flex;\n",
              "      gap: 12px;\n",
              "    }\n",
              "\n",
              "    .colab-df-convert {\n",
              "      background-color: #E8F0FE;\n",
              "      border: none;\n",
              "      border-radius: 50%;\n",
              "      cursor: pointer;\n",
              "      display: none;\n",
              "      fill: #1967D2;\n",
              "      height: 32px;\n",
              "      padding: 0 0 0 0;\n",
              "      width: 32px;\n",
              "    }\n",
              "\n",
              "    .colab-df-convert:hover {\n",
              "      background-color: #E2EBFA;\n",
              "      box-shadow: 0px 1px 2px rgba(60, 64, 67, 0.3), 0px 1px 3px 1px rgba(60, 64, 67, 0.15);\n",
              "      fill: #174EA6;\n",
              "    }\n",
              "\n",
              "    .colab-df-buttons div {\n",
              "      margin-bottom: 4px;\n",
              "    }\n",
              "\n",
              "    [theme=dark] .colab-df-convert {\n",
              "      background-color: #3B4455;\n",
              "      fill: #D2E3FC;\n",
              "    }\n",
              "\n",
              "    [theme=dark] .colab-df-convert:hover {\n",
              "      background-color: #434B5C;\n",
              "      box-shadow: 0px 1px 3px 1px rgba(0, 0, 0, 0.15);\n",
              "      filter: drop-shadow(0px 1px 2px rgba(0, 0, 0, 0.3));\n",
              "      fill: #FFFFFF;\n",
              "    }\n",
              "  </style>\n",
              "\n",
              "    <script>\n",
              "      const buttonEl =\n",
              "        document.querySelector('#df-504ee2e4-1826-4988-a10b-e445f7fffc94 button.colab-df-convert');\n",
              "      buttonEl.style.display =\n",
              "        google.colab.kernel.accessAllowed ? 'block' : 'none';\n",
              "\n",
              "      async function convertToInteractive(key) {\n",
              "        const element = document.querySelector('#df-504ee2e4-1826-4988-a10b-e445f7fffc94');\n",
              "        const dataTable =\n",
              "          await google.colab.kernel.invokeFunction('convertToInteractive',\n",
              "                                                    [key], {});\n",
              "        if (!dataTable) return;\n",
              "\n",
              "        const docLinkHtml = 'Like what you see? Visit the ' +\n",
              "          '<a target=\"_blank\" href=https://colab.research.google.com/notebooks/data_table.ipynb>data table notebook</a>'\n",
              "          + ' to learn more about interactive tables.';\n",
              "        element.innerHTML = '';\n",
              "        dataTable['output_type'] = 'display_data';\n",
              "        await google.colab.output.renderOutput(dataTable, element);\n",
              "        const docLink = document.createElement('div');\n",
              "        docLink.innerHTML = docLinkHtml;\n",
              "        element.appendChild(docLink);\n",
              "      }\n",
              "    </script>\n",
              "  </div>\n",
              "\n",
              "\n",
              "<div id=\"df-17b0b318-7e1a-438d-82b2-1c1b5ae045b2\">\n",
              "  <button class=\"colab-df-quickchart\" onclick=\"quickchart('df-17b0b318-7e1a-438d-82b2-1c1b5ae045b2')\"\n",
              "            title=\"Suggest charts\"\n",
              "            style=\"display:none;\">\n",
              "\n",
              "<svg xmlns=\"http://www.w3.org/2000/svg\" height=\"24px\"viewBox=\"0 0 24 24\"\n",
              "     width=\"24px\">\n",
              "    <g>\n",
              "        <path d=\"M19 3H5c-1.1 0-2 .9-2 2v14c0 1.1.9 2 2 2h14c1.1 0 2-.9 2-2V5c0-1.1-.9-2-2-2zM9 17H7v-7h2v7zm4 0h-2V7h2v10zm4 0h-2v-4h2v4z\"/>\n",
              "    </g>\n",
              "</svg>\n",
              "  </button>\n",
              "\n",
              "<style>\n",
              "  .colab-df-quickchart {\n",
              "      --bg-color: #E8F0FE;\n",
              "      --fill-color: #1967D2;\n",
              "      --hover-bg-color: #E2EBFA;\n",
              "      --hover-fill-color: #174EA6;\n",
              "      --disabled-fill-color: #AAA;\n",
              "      --disabled-bg-color: #DDD;\n",
              "  }\n",
              "\n",
              "  [theme=dark] .colab-df-quickchart {\n",
              "      --bg-color: #3B4455;\n",
              "      --fill-color: #D2E3FC;\n",
              "      --hover-bg-color: #434B5C;\n",
              "      --hover-fill-color: #FFFFFF;\n",
              "      --disabled-bg-color: #3B4455;\n",
              "      --disabled-fill-color: #666;\n",
              "  }\n",
              "\n",
              "  .colab-df-quickchart {\n",
              "    background-color: var(--bg-color);\n",
              "    border: none;\n",
              "    border-radius: 50%;\n",
              "    cursor: pointer;\n",
              "    display: none;\n",
              "    fill: var(--fill-color);\n",
              "    height: 32px;\n",
              "    padding: 0;\n",
              "    width: 32px;\n",
              "  }\n",
              "\n",
              "  .colab-df-quickchart:hover {\n",
              "    background-color: var(--hover-bg-color);\n",
              "    box-shadow: 0 1px 2px rgba(60, 64, 67, 0.3), 0 1px 3px 1px rgba(60, 64, 67, 0.15);\n",
              "    fill: var(--button-hover-fill-color);\n",
              "  }\n",
              "\n",
              "  .colab-df-quickchart-complete:disabled,\n",
              "  .colab-df-quickchart-complete:disabled:hover {\n",
              "    background-color: var(--disabled-bg-color);\n",
              "    fill: var(--disabled-fill-color);\n",
              "    box-shadow: none;\n",
              "  }\n",
              "\n",
              "  .colab-df-spinner {\n",
              "    border: 2px solid var(--fill-color);\n",
              "    border-color: transparent;\n",
              "    border-bottom-color: var(--fill-color);\n",
              "    animation:\n",
              "      spin 1s steps(1) infinite;\n",
              "  }\n",
              "\n",
              "  @keyframes spin {\n",
              "    0% {\n",
              "      border-color: transparent;\n",
              "      border-bottom-color: var(--fill-color);\n",
              "      border-left-color: var(--fill-color);\n",
              "    }\n",
              "    20% {\n",
              "      border-color: transparent;\n",
              "      border-left-color: var(--fill-color);\n",
              "      border-top-color: var(--fill-color);\n",
              "    }\n",
              "    30% {\n",
              "      border-color: transparent;\n",
              "      border-left-color: var(--fill-color);\n",
              "      border-top-color: var(--fill-color);\n",
              "      border-right-color: var(--fill-color);\n",
              "    }\n",
              "    40% {\n",
              "      border-color: transparent;\n",
              "      border-right-color: var(--fill-color);\n",
              "      border-top-color: var(--fill-color);\n",
              "    }\n",
              "    60% {\n",
              "      border-color: transparent;\n",
              "      border-right-color: var(--fill-color);\n",
              "    }\n",
              "    80% {\n",
              "      border-color: transparent;\n",
              "      border-right-color: var(--fill-color);\n",
              "      border-bottom-color: var(--fill-color);\n",
              "    }\n",
              "    90% {\n",
              "      border-color: transparent;\n",
              "      border-bottom-color: var(--fill-color);\n",
              "    }\n",
              "  }\n",
              "</style>\n",
              "\n",
              "  <script>\n",
              "    async function quickchart(key) {\n",
              "      const quickchartButtonEl =\n",
              "        document.querySelector('#' + key + ' button');\n",
              "      quickchartButtonEl.disabled = true;  // To prevent multiple clicks.\n",
              "      quickchartButtonEl.classList.add('colab-df-spinner');\n",
              "      try {\n",
              "        const charts = await google.colab.kernel.invokeFunction(\n",
              "            'suggestCharts', [key], {});\n",
              "      } catch (error) {\n",
              "        console.error('Error during call to suggestCharts:', error);\n",
              "      }\n",
              "      quickchartButtonEl.classList.remove('colab-df-spinner');\n",
              "      quickchartButtonEl.classList.add('colab-df-quickchart-complete');\n",
              "    }\n",
              "    (() => {\n",
              "      let quickchartButtonEl =\n",
              "        document.querySelector('#df-17b0b318-7e1a-438d-82b2-1c1b5ae045b2 button');\n",
              "      quickchartButtonEl.style.display =\n",
              "        google.colab.kernel.accessAllowed ? 'block' : 'none';\n",
              "    })();\n",
              "  </script>\n",
              "</div>\n",
              "\n",
              "    </div>\n",
              "  </div>\n"
            ],
            "application/vnd.google.colaboratory.intrinsic+json": {
              "type": "dataframe",
              "variable_name": "DO_trips",
              "repr_error": "0"
            }
          },
          "metadata": {},
          "execution_count": 31
        }
      ]
    },
    {
      "cell_type": "code",
      "source": [
        "# grouping by date and count the number of trips\n",
        "DO_counts = DO_trips.groupby('ended_at_date')['ended_at_date'].count()\n",
        "\n",
        "DO_counts"
      ],
      "metadata": {
        "colab": {
          "base_uri": "https://localhost:8080/",
          "height": 490
        },
        "id": "SRtAGqpCc_Wj",
        "outputId": "1a2174c9-0597-4837-ef7c-92ced01ae8e5"
      },
      "id": "SRtAGqpCc_Wj",
      "execution_count": 32,
      "outputs": [
        {
          "output_type": "execute_result",
          "data": {
            "text/plain": [
              "ended_at_date\n",
              "2024-02-01    33\n",
              "2024-02-02    25\n",
              "2024-02-03    20\n",
              "2024-02-04    19\n",
              "2024-02-05    23\n",
              "              ..\n",
              "2024-04-26    39\n",
              "2024-04-27    24\n",
              "2024-04-28    28\n",
              "2024-04-29    38\n",
              "2024-04-30    39\n",
              "Name: ended_at_date, Length: 90, dtype: int64"
            ],
            "text/html": [
              "<div>\n",
              "<style scoped>\n",
              "    .dataframe tbody tr th:only-of-type {\n",
              "        vertical-align: middle;\n",
              "    }\n",
              "\n",
              "    .dataframe tbody tr th {\n",
              "        vertical-align: top;\n",
              "    }\n",
              "\n",
              "    .dataframe thead th {\n",
              "        text-align: right;\n",
              "    }\n",
              "</style>\n",
              "<table border=\"1\" class=\"dataframe\">\n",
              "  <thead>\n",
              "    <tr style=\"text-align: right;\">\n",
              "      <th></th>\n",
              "      <th>ended_at_date</th>\n",
              "    </tr>\n",
              "    <tr>\n",
              "      <th>ended_at_date</th>\n",
              "      <th></th>\n",
              "    </tr>\n",
              "  </thead>\n",
              "  <tbody>\n",
              "    <tr>\n",
              "      <th>2024-02-01</th>\n",
              "      <td>33</td>\n",
              "    </tr>\n",
              "    <tr>\n",
              "      <th>2024-02-02</th>\n",
              "      <td>25</td>\n",
              "    </tr>\n",
              "    <tr>\n",
              "      <th>2024-02-03</th>\n",
              "      <td>20</td>\n",
              "    </tr>\n",
              "    <tr>\n",
              "      <th>2024-02-04</th>\n",
              "      <td>19</td>\n",
              "    </tr>\n",
              "    <tr>\n",
              "      <th>2024-02-05</th>\n",
              "      <td>23</td>\n",
              "    </tr>\n",
              "    <tr>\n",
              "      <th>...</th>\n",
              "      <td>...</td>\n",
              "    </tr>\n",
              "    <tr>\n",
              "      <th>2024-04-26</th>\n",
              "      <td>39</td>\n",
              "    </tr>\n",
              "    <tr>\n",
              "      <th>2024-04-27</th>\n",
              "      <td>24</td>\n",
              "    </tr>\n",
              "    <tr>\n",
              "      <th>2024-04-28</th>\n",
              "      <td>28</td>\n",
              "    </tr>\n",
              "    <tr>\n",
              "      <th>2024-04-29</th>\n",
              "      <td>38</td>\n",
              "    </tr>\n",
              "    <tr>\n",
              "      <th>2024-04-30</th>\n",
              "      <td>39</td>\n",
              "    </tr>\n",
              "  </tbody>\n",
              "</table>\n",
              "<p>90 rows × 1 columns</p>\n",
              "</div><br><label><b>dtype:</b> int64</label>"
            ]
          },
          "metadata": {},
          "execution_count": 32
        }
      ]
    },
    {
      "cell_type": "markdown",
      "source": [
        "## Merging Pick Up and Drop Off tables\n",
        "- For each day, we look at the numbers of pickups and dropoffs"
      ],
      "metadata": {
        "id": "3qosEW4wdVJ2"
      },
      "id": "3qosEW4wdVJ2"
    },
    {
      "cell_type": "code",
      "source": [
        "# merge PU_counts and DO_counts by matching the dates, and change the column names to PU_count and DO_count respectively.\n",
        "\n",
        "PU_DO_counts = pd.merge(PU_counts, DO_counts, left_index=True, right_index=True, how='outer')\n",
        "PU_DO_counts = PU_DO_counts.rename(columns={'started_at_date': 'PU_ct', 'ended_at_date': 'DO_ct'})\n",
        "\n",
        "# change the index name from 'started_at' to 'date'\n",
        "\n",
        "PU_DO_counts = PU_DO_counts.rename_axis('date')\n",
        "PU_DO_counts\n"
      ],
      "metadata": {
        "id": "UwgJLIMcf9SB"
      },
      "id": "UwgJLIMcf9SB",
      "execution_count": null,
      "outputs": []
    },
    {
      "cell_type": "markdown",
      "id": "4f5c2444",
      "metadata": {
        "id": "4f5c2444"
      },
      "source": [
        "## Visualizing the pickups and dropoffs"
      ]
    },
    {
      "cell_type": "code",
      "source": [
        "# plot line chart showing the PU_count and DO_count over time\n",
        "import matplotlib.pyplot as plt\n",
        "\n",
        "# Create the line chart\n",
        "plt.figure(figsize=(12, 6))\n",
        "plt.plot(PU_DO_counts.index, PU_DO_counts['PU_ct'], label='PU_ct')\n",
        "plt.plot(PU_DO_counts.index, PU_DO_counts['DO_ct'], label='DO_ct')\n",
        "\n",
        "# Customize the chart\n",
        "plt.xlabel('Date')\n",
        "plt.ylabel('Count')\n",
        "plt.title('Pickups and Dropoffs Over Time')\n",
        "plt.legend()\n",
        "plt.grid(True)\n",
        "\n",
        "plt.show()"
      ],
      "metadata": {
        "id": "JGyrEtXZhnuH"
      },
      "id": "JGyrEtXZhnuH",
      "execution_count": null,
      "outputs": []
    },
    {
      "cell_type": "markdown",
      "id": "cbb1a6e3",
      "metadata": {
        "id": "cbb1a6e3"
      },
      "source": [
        "# Feature Information: Weather Data\n",
        "- From https://www.visualcrossing.com/weather-history/"
      ]
    },
    {
      "cell_type": "code",
      "execution_count": null,
      "id": "91178cea",
      "metadata": {
        "id": "91178cea"
      },
      "outputs": [],
      "source": [
        "# Loading the weather data\n",
        "df_weather = pd.read_csv('DC_weather_2024.csv')\n",
        "\n",
        "# Inspecting the dataframe\n",
        "df_weather.head()"
      ]
    },
    {
      "cell_type": "code",
      "source": [
        "# Checking info of columns\n",
        "df_weather.info()"
      ],
      "metadata": {
        "id": "d0I3EqWpi5zI"
      },
      "id": "d0I3EqWpi5zI",
      "execution_count": null,
      "outputs": []
    },
    {
      "cell_type": "markdown",
      "id": "94f6001e",
      "metadata": {
        "id": "94f6001e"
      },
      "source": [
        "## Drop variables of your choice"
      ]
    },
    {
      "cell_type": "code",
      "execution_count": null,
      "id": "82a937c9",
      "metadata": {
        "id": "82a937c9"
      },
      "outputs": [],
      "source": [
        "# Drop unnecessary variables\n",
        "df_weather=df_weather.drop(columns=['name', 'stations','description','sunrise','sunset','conditions','severerisk','preciptype','windgust'])"
      ]
    },
    {
      "cell_type": "markdown",
      "id": "a28e9ce3",
      "metadata": {
        "id": "a28e9ce3"
      },
      "source": [
        "## Prepare X and y: Merge df_weather with PU_DO_counts"
      ]
    },
    {
      "cell_type": "code",
      "source": [
        "# Convert the 'datetime' column to datetime objects and extract the date\n",
        "df_weather['datetime'] = pd.to_datetime(df_weather['datetime'])\n",
        "df_weather['date'] = df_weather['datetime'].dt.date\n",
        "\n",
        "# Merge the two dataframes based on the 'date' column\n",
        "merged_df = pd.merge(PU_DO_counts, df_weather, on='date', how='left')\n",
        "\n",
        "# Display the merged dataframe\n",
        "merged_df"
      ],
      "metadata": {
        "id": "LceO3zBEq0-q"
      },
      "id": "LceO3zBEq0-q",
      "execution_count": null,
      "outputs": []
    },
    {
      "cell_type": "code",
      "execution_count": null,
      "id": "3e5059bf",
      "metadata": {
        "id": "3e5059bf",
        "collapsed": true
      },
      "outputs": [],
      "source": [
        "import seaborn as sns\n",
        "sns.pairplot(merged_df[['PU_ct',\"temp\", \"precip\", \"windspeed\",\"uvindex\"]], kind=\"reg\",plot_kws=dict(scatter_kws=dict(s=2), line_kws = {'color':'black'})) # pairplot for PU_ct"
      ]
    },
    {
      "cell_type": "markdown",
      "id": "7ef1734d",
      "metadata": {
        "id": "7ef1734d"
      },
      "source": [
        "# Prepare training and test data"
      ]
    },
    {
      "cell_type": "code",
      "execution_count": null,
      "id": "0217869f",
      "metadata": {
        "id": "0217869f"
      },
      "outputs": [],
      "source": [
        "# we have two target variables: PU_ct and DO_ct\n",
        "y = merged_df[['PU_ct','DO_ct']]\n",
        "X = merged_df[['temp','precip','windspeed','uvindex','icon']]\n",
        "X"
      ]
    },
    {
      "cell_type": "markdown",
      "source": [
        "# **Assignment 1: Regression Models**\n",
        "\n",
        "## Task 1: Train a linear regression model with a single feature ('temp') for PU_ct, and report the training and test MSE, respectively. [10 pts]"
      ],
      "metadata": {
        "id": "LarMT8RHBS9L"
      },
      "id": "LarMT8RHBS9L"
    },
    {
      "cell_type": "code",
      "source": [
        "# Preparing the training and test data\n",
        "y = merged_df['PU_ct']\n",
        "X = merged_df[['temp']]\n",
        "X"
      ],
      "metadata": {
        "id": "xgC0m4wVKOFk"
      },
      "id": "xgC0m4wVKOFk",
      "execution_count": null,
      "outputs": []
    },
    {
      "cell_type": "code",
      "source": [
        "# Splitting the data: 60% train data and 40% test data\n",
        "X_train, X_test, y_train, y_test = train_test_split(X, y, test_size=0.4, random_state=200)"
      ],
      "metadata": {
        "id": "1hMvFb1AzuyI"
      },
      "id": "1hMvFb1AzuyI",
      "execution_count": null,
      "outputs": []
    },
    {
      "cell_type": "code",
      "source": [
        "# Training the linear regression model:\n",
        "model = LinearRegression()\n",
        "model.fit(X_train, y_train)"
      ],
      "metadata": {
        "id": "pl3n5-m_Que5"
      },
      "id": "pl3n5-m_Que5",
      "execution_count": null,
      "outputs": []
    },
    {
      "cell_type": "code",
      "source": [
        "# Predicting and calculating MSE:\n",
        "model = LinearRegression()\n",
        "model.fit(X_train, y_train)\n",
        "\n",
        "y_train_pred = model.predict(X_train)\n",
        "y_test_pred = model.predict(X_test)\n",
        "\n",
        "train_mse = mean_squared_error(y_train, y_train_pred)\n",
        "test_mse = mean_squared_error(y_test, y_test_pred)\n",
        "\n",
        "print(f\"Training MSE: {train_mse}\")\n",
        "print(f\"Test MSE: {test_mse}\")"
      ],
      "metadata": {
        "id": "09tIAZKkJR8D"
      },
      "id": "09tIAZKkJR8D",
      "execution_count": null,
      "outputs": []
    },
    {
      "cell_type": "code",
      "source": [
        "# Storing MSE for Task 1 features: temp\n",
        "train_mse_task1 = train_mse\n",
        "test_mse_task1 = test_mse"
      ],
      "metadata": {
        "id": "u4X-eEZPUZqV"
      },
      "id": "u4X-eEZPUZqV",
      "execution_count": null,
      "outputs": []
    },
    {
      "cell_type": "markdown",
      "source": [
        "## Task 2: Train a linear regression model with two feature ('temp' and 'precip') for PU_ct, and report the training and test MSE, respectively. [10 pts]"
      ],
      "metadata": {
        "id": "repvh2ZO52jz"
      },
      "id": "repvh2ZO52jz"
    },
    {
      "cell_type": "code",
      "source": [
        "# Preparing the training and test data\n",
        "y = merged_df['PU_ct']\n",
        "X = merged_df[['temp', 'precip']]\n",
        "X"
      ],
      "metadata": {
        "id": "CjMzUvqIMiDr"
      },
      "id": "CjMzUvqIMiDr",
      "execution_count": null,
      "outputs": []
    },
    {
      "cell_type": "code",
      "source": [
        "# Splitting the data: 60% train data and 40% test data\n",
        "X_train, X_test, y_train, y_test = train_test_split(X, y, test_size=0.4, random_state=200)"
      ],
      "metadata": {
        "id": "LoZ8pof6HmHQ"
      },
      "id": "LoZ8pof6HmHQ",
      "execution_count": null,
      "outputs": []
    },
    {
      "cell_type": "code",
      "source": [
        "# Training the linear regression model:\n",
        "model = LinearRegression()\n",
        "model.fit(X_train, y_train)"
      ],
      "metadata": {
        "id": "kEDIR7Z7RFAl"
      },
      "id": "kEDIR7Z7RFAl",
      "execution_count": null,
      "outputs": []
    },
    {
      "cell_type": "code",
      "source": [
        "# Predicting and calculating MSE:\n",
        "y_train_pred = model.predict(X_train)\n",
        "y_test_pred = model.predict(X_test)\n",
        "\n",
        "train_mse = mean_squared_error(y_train, y_train_pred)\n",
        "test_mse = mean_squared_error(y_test, y_test_pred)\n",
        "\n",
        "print(f\"Training MSE: {train_mse}\")\n",
        "print(f\"Test MSE: {test_mse}\")"
      ],
      "metadata": {
        "id": "8Sr0AfIEC0aS"
      },
      "id": "8Sr0AfIEC0aS",
      "execution_count": null,
      "outputs": []
    },
    {
      "cell_type": "code",
      "source": [
        "# Storing MSE for Task 2 features: temp + precip\n",
        "train_mse_task2 = train_mse\n",
        "test_mse_task2 = test_mse"
      ],
      "metadata": {
        "id": "CrZQDvDFU2_F"
      },
      "id": "CrZQDvDFU2_F",
      "execution_count": null,
      "outputs": []
    },
    {
      "cell_type": "markdown",
      "source": [
        "## Task 3: Train a linear regression model with features ('temp','precip','windspeed') for PU_ct, and report the training and test MSE, respectively. [10 pts]"
      ],
      "metadata": {
        "id": "8dYwLPUQ7C_R"
      },
      "id": "8dYwLPUQ7C_R"
    },
    {
      "cell_type": "code",
      "source": [
        "# Preparing the training and test data\n",
        "y = merged_df['PU_ct']\n",
        "X = merged_df[['temp', 'precip', 'windspeed']]\n",
        "X"
      ],
      "metadata": {
        "id": "BhtbRDQdMx5S"
      },
      "id": "BhtbRDQdMx5S",
      "execution_count": null,
      "outputs": []
    },
    {
      "cell_type": "code",
      "source": [
        "# Splitting the data: 60% train data and 40% test data\n",
        "X_train, X_test, y_train, y_test = train_test_split(X, y, test_size=0.4, random_state=200)"
      ],
      "metadata": {
        "id": "SC3wTMKACkqX"
      },
      "id": "SC3wTMKACkqX",
      "execution_count": null,
      "outputs": []
    },
    {
      "cell_type": "code",
      "source": [
        "# Training the linear regression model:\n",
        "model = LinearRegression()\n",
        "model.fit(X_train, y_train)"
      ],
      "metadata": {
        "id": "4sUlVMZARO39"
      },
      "id": "4sUlVMZARO39",
      "execution_count": null,
      "outputs": []
    },
    {
      "cell_type": "code",
      "source": [
        "# Predicting and calculating MSE:\n",
        "y_train_pred = model.predict(X_train)\n",
        "y_test_pred = model.predict(X_test)\n",
        "\n",
        "train_mse = mean_squared_error(y_train, y_train_pred)\n",
        "test_mse = mean_squared_error(y_test, y_test_pred)\n",
        "\n",
        "print(f\"Training MSE: {train_mse}\")\n",
        "print(f\"Test MSE: {test_mse}\")"
      ],
      "metadata": {
        "id": "7600tn2-Hn94"
      },
      "id": "7600tn2-Hn94",
      "execution_count": null,
      "outputs": []
    },
    {
      "cell_type": "code",
      "source": [
        "# Storing MSE for Task 3 featuers: temp + precip + windspeed\n",
        "train_mse_task3 = train_mse\n",
        "test_mse_task3 = test_mse"
      ],
      "metadata": {
        "id": "WmVrwUlJU7Aj"
      },
      "id": "WmVrwUlJU7Aj",
      "execution_count": null,
      "outputs": []
    },
    {
      "cell_type": "markdown",
      "source": [
        "## Task 4: Train a linear regression model with features ('temp','precip','windspeed','uvindex') for PU_ct, and report the training and test MSE, respectively. [10 pts]"
      ],
      "metadata": {
        "id": "njTBSAx37Ylz"
      },
      "id": "njTBSAx37Ylz"
    },
    {
      "cell_type": "code",
      "source": [
        "# Preparing the training and test data\n",
        "y = merged_df['PU_ct']\n",
        "X = merged_df[['temp', 'precip', 'windspeed', 'uvindex']]\n",
        "X"
      ],
      "metadata": {
        "id": "b0YHAXBYM5t5"
      },
      "id": "b0YHAXBYM5t5",
      "execution_count": null,
      "outputs": []
    },
    {
      "cell_type": "code",
      "source": [
        "# Splitting the data: 60% train data and 40% test data\n",
        "X_train, X_test, y_train, y_test = train_test_split(X, y, test_size=0.4, random_state=200)"
      ],
      "metadata": {
        "id": "3F7wdq3fHpAq"
      },
      "id": "3F7wdq3fHpAq",
      "execution_count": null,
      "outputs": []
    },
    {
      "cell_type": "code",
      "source": [
        "# Training the linear regression model:\n",
        "model = LinearRegression()\n",
        "model.fit(X_train, y_train)"
      ],
      "metadata": {
        "id": "vtyR-ae-RX3X"
      },
      "id": "vtyR-ae-RX3X",
      "execution_count": null,
      "outputs": []
    },
    {
      "cell_type": "code",
      "source": [
        "# Predicting and calculating MSE:\n",
        "y_train_pred = model.predict(X_train)\n",
        "y_test_pred = model.predict(X_test)\n",
        "\n",
        "train_mse = mean_squared_error(y_train, y_train_pred)\n",
        "test_mse = mean_squared_error(y_test, y_test_pred)\n",
        "\n",
        "print(f\"Training MSE: {train_mse}\")\n",
        "print(f\"Test MSE: {test_mse}\")"
      ],
      "metadata": {
        "id": "nbSZGMM9CcV8"
      },
      "id": "nbSZGMM9CcV8",
      "execution_count": null,
      "outputs": []
    },
    {
      "cell_type": "code",
      "source": [
        "# Storing MSE for Task 4 features: temp + precip + windspeed + uvindex\n",
        "train_mse_task4 = train_mse\n",
        "test_mse_task4 = test_mse"
      ],
      "metadata": {
        "id": "LSVnY-ImVBmu"
      },
      "id": "LSVnY-ImVBmu",
      "execution_count": null,
      "outputs": []
    },
    {
      "cell_type": "markdown",
      "source": [
        "## Task 5: Train a linear regression model with features ('temp','precip','windspeed','uvindex','icon') for PU_ct, and report the training and test MSE, respectively. [10 pts]"
      ],
      "metadata": {
        "id": "NHEwVXx37tJT"
      },
      "id": "NHEwVXx37tJT"
    },
    {
      "cell_type": "code",
      "source": [
        "# Preparing the training and test data\n",
        "y = merged_df['PU_ct']\n",
        "X = pd.get_dummies(merged_df[['temp', 'precip', 'windspeed', 'uvindex', 'icon']], columns=['icon'], drop_first=True)\n",
        "X"
      ],
      "metadata": {
        "id": "-N3NIOegNIuT"
      },
      "id": "-N3NIOegNIuT",
      "execution_count": null,
      "outputs": []
    },
    {
      "cell_type": "code",
      "source": [
        "# Splitting the data: 60% train data and 40% test data\n",
        "X_train, X_test, y_train, y_test = train_test_split(X, y, test_size=0.4, random_state=200)"
      ],
      "metadata": {
        "id": "kiIn86TRCML5"
      },
      "id": "kiIn86TRCML5",
      "execution_count": null,
      "outputs": []
    },
    {
      "cell_type": "code",
      "source": [
        "# Training the linear regression model:\n",
        "model = LinearRegression()\n",
        "model.fit(X_train, y_train)"
      ],
      "metadata": {
        "id": "642CNfT7Rcq-"
      },
      "id": "642CNfT7Rcq-",
      "execution_count": null,
      "outputs": []
    },
    {
      "cell_type": "code",
      "source": [
        "# Predicting and calculating MSE:\n",
        "y_train_pred = model.predict(X_train)\n",
        "y_test_pred = model.predict(X_test)\n",
        "\n",
        "train_mse = mean_squared_error(y_train, y_train_pred)\n",
        "test_mse = mean_squared_error(y_test, y_test_pred)\n",
        "\n",
        "print(f\"Training MSE: {train_mse}\")\n",
        "print(f\"Test MSE: {test_mse}\")"
      ],
      "metadata": {
        "id": "fDCYheJ6HqTs"
      },
      "id": "fDCYheJ6HqTs",
      "execution_count": null,
      "outputs": []
    },
    {
      "cell_type": "code",
      "source": [
        "# Storing MSE for Task 5 features: temp + precip + windspeed + uvindex + icon_dummies\n",
        "train_mse_task5 = train_mse\n",
        "test_mse_task5 = test_mse"
      ],
      "metadata": {
        "id": "08cDv7JRVFaW"
      },
      "id": "08cDv7JRVFaW",
      "execution_count": null,
      "outputs": []
    },
    {
      "cell_type": "markdown",
      "source": [
        "## Task 6: Based on the previous results, plot the changes in training and test MSEs as more features are added to the linear regression model. [10 pts]"
      ],
      "metadata": {
        "id": "Ksx5Iahn9Byy"
      },
      "id": "Ksx5Iahn9Byy"
    },
    {
      "cell_type": "code",
      "source": [
        "import matplotlib.pyplot as plt"
      ],
      "metadata": {
        "id": "yA-TJVUqSfpW"
      },
      "id": "yA-TJVUqSfpW",
      "execution_count": null,
      "outputs": []
    },
    {
      "cell_type": "code",
      "source": [
        "# MSE values from the Tasks 1–5\n",
        "mse_data = {\n",
        "    'Features': [\n",
        "        'temp',\n",
        "        'temp,precip',\n",
        "        'temp,precip,windspeed',\n",
        "        'temp,precip,windspeed,uvindex',\n",
        "        'temp,precip,windspeed,uvindex,icon_dummies'\n",
        "    ],\n",
        "    'Train_MSE': [train_mse_task1, train_mse_task2, train_mse_task3, train_mse_task4, train_mse_task5],\n",
        "    'Test_MSE': [test_mse_task1, test_mse_task2, test_mse_task3, test_mse_task4, test_mse_task5]\n",
        "}\n",
        "# DataFrame storing the MSE values\n",
        "mse_df = pd.DataFrame(mse_data)"
      ],
      "metadata": {
        "id": "3W01yX5QSgkS"
      },
      "id": "3W01yX5QSgkS",
      "execution_count": null,
      "outputs": []
    },
    {
      "cell_type": "code",
      "source": [
        "# Plotting the train and test MSE values\n",
        "plt.figure(figsize=(8, 5))\n",
        "plt.plot(mse_df['Features'], mse_df['Train_MSE'], label='Train MSE', marker='o')\n",
        "plt.plot(mse_df['Features'], mse_df['Test_MSE'], label='Test MSE', marker='s')\n",
        "plt.xlabel('Features')\n",
        "plt.ylabel('MSE')\n",
        "plt.title('Training and Test MSE vs. Features')\n",
        "plt.legend()\n",
        "plt.grid(True)\n",
        "plt.xticks(rotation=60)  # Rotating x-axis labels for better readability\n",
        "plt.show()"
      ],
      "metadata": {
        "id": "VwikMdSzB_vg"
      },
      "id": "VwikMdSzB_vg",
      "execution_count": null,
      "outputs": []
    },
    {
      "cell_type": "markdown",
      "source": [
        "## Task 7: Based on the above plot, identify the best combination of features for PU_ct prediction in linear regression. [10 pts]"
      ],
      "metadata": {
        "id": "CdjgaV42CkBx"
      },
      "id": "CdjgaV42CkBx"
    },
    {
      "cell_type": "code",
      "source": [],
      "metadata": {
        "id": "ynTS-LY3HulS"
      },
      "id": "ynTS-LY3HulS",
      "execution_count": null,
      "outputs": []
    },
    {
      "cell_type": "markdown",
      "source": [
        "## Task 8: Conduct Task 1-7 again for DO_ct prediction. [30 pts]"
      ],
      "metadata": {
        "id": "3FSL193gC8d_"
      },
      "id": "3FSL193gC8d_"
    },
    {
      "cell_type": "code",
      "source": [],
      "metadata": {
        "id": "9cW8owlfHS8X"
      },
      "id": "9cW8owlfHS8X",
      "execution_count": null,
      "outputs": []
    },
    {
      "cell_type": "markdown",
      "source": [
        "#Reference\n",
        "##### <font color=\"red\">\"DeepSeek AI (Version 1.0, developed by DeepSeek AI, accessed January 28, 2025)\" was consulted during the research process.</font>\n"
      ],
      "metadata": {
        "id": "w5iPkA1LchMG"
      },
      "id": "w5iPkA1LchMG"
    },
    {
      "cell_type": "code",
      "source": [],
      "metadata": {
        "id": "whDb_4hKclbR"
      },
      "id": "whDb_4hKclbR",
      "execution_count": null,
      "outputs": []
    }
  ],
  "metadata": {
    "kernelspec": {
      "display_name": "Python 3 (ipykernel)",
      "language": "python",
      "name": "python3"
    },
    "language_info": {
      "codemirror_mode": {
        "name": "ipython",
        "version": 3
      },
      "file_extension": ".py",
      "mimetype": "text/x-python",
      "name": "python",
      "nbconvert_exporter": "python",
      "pygments_lexer": "ipython3",
      "version": "3.7.11"
    },
    "colab": {
      "provenance": [],
      "include_colab_link": true
    }
  },
  "nbformat": 4,
  "nbformat_minor": 5
}